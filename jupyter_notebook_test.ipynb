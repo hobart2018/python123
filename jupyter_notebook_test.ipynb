{
 "cells": [
  {
   "cell_type": "code",
   "execution_count": 1,
   "metadata": {},
   "outputs": [
    {
     "name": "stdout",
     "output_type": "stream",
     "text": [
      "hello world\n"
     ]
    }
   ],
   "source": [
    "print(\"hello world\")"
   ]
  },
  {
   "cell_type": "code",
   "execution_count": 1,
   "metadata": {},
   "outputs": [
    {
     "name": "stdout",
     "output_type": "stream",
     "text": [
      "d \n",
      " 3 False\n",
      "!!!!top!!!!\n",
      "     d     \n",
      "     b     \n",
      "     a     \n",
      "!!bottom!!!\n"
     ]
    }
   ],
   "source": [
    "class Stack:\n",
    "    def __init__(self):\n",
    "        self.items = []\n",
    "\n",
    "    # judge whether the stack is empty\n",
    "    def is_empty(self):\n",
    "        return self.items == []\n",
    "\n",
    "    #add item to the Stack\n",
    "    def push(self, item):\n",
    "        self.items.append(item)\n",
    "\n",
    "    #pop an item from the stack\n",
    "    def pop(self):\n",
    "        return self.items.pop()\n",
    "\n",
    "    def peek(self):\n",
    "        if len(self.items):\n",
    "            return self.items[len(self.items) - 1]\n",
    "        return None\n",
    "\n",
    "    def size(self):\n",
    "        return len(self.items)\n",
    "\n",
    "def print_stack(stack):\n",
    "    print('{:!^11}'.format('top'))\n",
    "    for i in range(len(stack.items)):\n",
    "        print('{:^11}'.format(stack.items[len(stack.items) - i - 1]))\n",
    "    print('{:!^11}'.format('bottom'))\n",
    "\n",
    "a = Stack()\n",
    "a.push('a')\n",
    "a.push('b')\n",
    "a.push('c')\n",
    "b = a.pop()\n",
    "a.push('d')\n",
    "print(a.peek(),'\\n',a.size(),a.is_empty())\n",
    "print_stack(a)\n"
   ]
  },
  {
   "cell_type": "code",
   "execution_count": 2,
   "metadata": {},
   "outputs": [],
   "source": [
    "a?"
   ]
  },
  {
   "cell_type": "code",
   "execution_count": 3,
   "metadata": {},
   "outputs": [],
   "source": [
    "a??"
   ]
  },
  {
   "cell_type": "code",
   "execution_count": 5,
   "metadata": {},
   "outputs": [
    {
     "name": "stderr",
     "output_type": "stream",
     "text": [
      "'uptime' is not recognized as an internal or external command,\n",
      "operable program or batch file.\n"
     ]
    }
   ],
   "source": [
    "!uptime"
   ]
  },
  {
   "cell_type": "code",
   "execution_count": 6,
   "metadata": {},
   "outputs": [
    {
     "name": "stderr",
     "output_type": "stream",
     "text": [
      "'uptime' is not recognized as an internal or external command,\n",
      "operable program or batch file.\n"
     ]
    }
   ],
   "source": [
    "!uptime"
   ]
  },
  {
   "cell_type": "code",
   "execution_count": 7,
   "metadata": {},
   "outputs": [
    {
     "name": "stderr",
     "output_type": "stream",
     "text": [
      "'ls' is not recognized as an internal or external command,\n",
      "operable program or batch file.\n"
     ]
    }
   ],
   "source": [
    "!ls"
   ]
  },
  {
   "cell_type": "code",
   "execution_count": 8,
   "metadata": {},
   "outputs": [
    {
     "name": "stdout",
     "output_type": "stream",
     "text": [
      "class Stack:\n",
      "    def __init__(self):\n",
      "        self.items = []\n",
      "\n",
      "    # judge whether the stack is empty\n",
      "    def is_empty(self):\n",
      "        return self.items == []\n",
      "\n",
      "    #add item to the Stack\n",
      "    def push(self, item):\n",
      "        self.items.append(item)\n",
      "\n",
      "    #pop an item from the stack\n",
      "    def pop(self):\n",
      "        return self.items.pop()\n",
      "\n",
      "    def peek(self):\n",
      "        if len(self.items):\n",
      "            return self.items[len(self.items) - 1]\n",
      "        return None\n",
      "\n",
      "    def size(self):\n",
      "        return len(self.items)\n",
      "\n",
      "def print_stack(stack):\n",
      "    print('{:!^11}'.format('top'))\n",
      "    for i in range(len(stack.items)):\n",
      "        print('{:^11}'.format(stack.items[len(stack.items) - i - 1]))\n",
      "    print('{:!^11}'.format('bottom'))\n",
      "\n",
      "a = Stack()\n",
      "a.push('a')\n",
      "a.push('b')\n",
      "a.push('c')\n",
      "b = a.pop()\n",
      "a.push('d')\n",
      "print(a.peek(),'\\n',a.size(),a.is_empty())\n",
      "print_stack(a)\n",
      "a?\n",
      "a??\n",
      "!uptime\n",
      "!uptime\n",
      "!uptime\n",
      "!ls\n",
      "%hist\n"
     ]
    }
   ],
   "source": [
    "%hist"
   ]
  },
  {
   "cell_type": "code",
   "execution_count": null,
   "metadata": {},
   "outputs": [],
   "source": [
    "# %load stack.py\n",
    "class Stack:\n",
    "    def __init__(self):\n",
    "        self.items = []\n",
    "\n",
    "    # judge whether the stack is empty\n",
    "    def is_empty(self):\n",
    "        return self.items == []\n",
    "\n",
    "    #add item to the Stack\n",
    "    def push(self, item):\n",
    "        self.items.append(item)\n",
    "\n",
    "    #pop an item from the stack\n",
    "    def pop(self):\n",
    "        return self.items.pop()\n",
    "\n",
    "    def peek(self):\n",
    "        if len(self.items):\n",
    "            return self.items[len(self.items) - 1]\n",
    "        return None\n",
    "\n",
    "    def size(self):\n",
    "        return len(self.items)\n",
    "\n",
    "def print_stack(stack):\n",
    "    print('{:!^11}'.format('top'))\n",
    "    for i in range(len(stack.items)):\n",
    "        print('{:^11}'.format(stack.items[len(stack.items) - i - 1]))\n",
    "    print('{:!^11}'.format('bottom'))\n",
    "\n",
    "a = Stack()\n",
    "a.push('a')\n",
    "a.push('b')\n",
    "a.push('c')\n",
    "b = a.pop()\n",
    "a.push('d')\n",
    "print(a.peek(),'\\n',a.size(),a.is_empty())\n",
    "print_stack(a)\n"
   ]
  },
  {
   "cell_type": "code",
   "execution_count": 14,
   "metadata": {},
   "outputs": [],
   "source": [
    "%timeit"
   ]
  },
  {
   "cell_type": "code",
   "execution_count": 15,
   "metadata": {},
   "outputs": [
    {
     "name": "stdout",
     "output_type": "stream",
     "text": [
      "> \u001b[1;32mc:\\users\\young\\anaconda3\\lib\\site-packages\\ipython\\core\\magics\\code.py\u001b[0m(210)\u001b[0;36msave\u001b[1;34m()\u001b[0m\n",
      "\u001b[1;32m    208 \u001b[1;33m        \u001b[0mopts\u001b[0m\u001b[1;33m,\u001b[0m\u001b[0margs\u001b[0m \u001b[1;33m=\u001b[0m \u001b[0mself\u001b[0m\u001b[1;33m.\u001b[0m\u001b[0mparse_options\u001b[0m\u001b[1;33m(\u001b[0m\u001b[0mparameter_s\u001b[0m\u001b[1;33m,\u001b[0m\u001b[1;34m'fra'\u001b[0m\u001b[1;33m,\u001b[0m\u001b[0mmode\u001b[0m\u001b[1;33m=\u001b[0m\u001b[1;34m'list'\u001b[0m\u001b[1;33m)\u001b[0m\u001b[1;33m\u001b[0m\u001b[0m\n",
      "\u001b[0m\u001b[1;32m    209 \u001b[1;33m        \u001b[1;32mif\u001b[0m \u001b[1;32mnot\u001b[0m \u001b[0margs\u001b[0m\u001b[1;33m:\u001b[0m\u001b[1;33m\u001b[0m\u001b[0m\n",
      "\u001b[0m\u001b[1;32m--> 210 \u001b[1;33m            \u001b[1;32mraise\u001b[0m \u001b[0mUsageError\u001b[0m\u001b[1;33m(\u001b[0m\u001b[1;34m'Missing filename.'\u001b[0m\u001b[1;33m)\u001b[0m\u001b[1;33m\u001b[0m\u001b[0m\n",
      "\u001b[0m\u001b[1;32m    211 \u001b[1;33m        \u001b[0mraw\u001b[0m \u001b[1;33m=\u001b[0m \u001b[1;34m'r'\u001b[0m \u001b[1;32min\u001b[0m \u001b[0mopts\u001b[0m\u001b[1;33m\u001b[0m\u001b[0m\n",
      "\u001b[0m\u001b[1;32m    212 \u001b[1;33m        \u001b[0mforce\u001b[0m \u001b[1;33m=\u001b[0m \u001b[1;34m'f'\u001b[0m \u001b[1;32min\u001b[0m \u001b[0mopts\u001b[0m\u001b[1;33m\u001b[0m\u001b[0m\n",
      "\u001b[0m\n",
      "ipdb> a\n",
      "self = <IPython.core.magics.code.CodeMagics object at 0x000001E4FA3484E0>\n",
      "parameter_s = ''\n",
      "ipdb> exiy\n",
      "*** NameError: name 'exiy' is not defined\n",
      "ipdb> exit\n"
     ]
    }
   ],
   "source": [
    "%debug"
   ]
  },
  {
   "cell_type": "code",
   "execution_count": null,
   "metadata": {},
   "outputs": [],
   "source": []
  }
 ],
 "metadata": {
  "kernelspec": {
   "display_name": "Python 3",
   "language": "python",
   "name": "python3"
  },
  "language_info": {
   "codemirror_mode": {
    "name": "ipython",
    "version": 3
   },
   "file_extension": ".py",
   "mimetype": "text/x-python",
   "name": "python",
   "nbconvert_exporter": "python",
   "pygments_lexer": "ipython3",
   "version": "3.6.5"
  }
 },
 "nbformat": 4,
 "nbformat_minor": 2
}
